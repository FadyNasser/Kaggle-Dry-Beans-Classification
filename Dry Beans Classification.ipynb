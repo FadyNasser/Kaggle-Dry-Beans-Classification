{
 "cells": [
  {
   "cell_type": "code",
   "execution_count": 1,
   "id": "845d0eba",
   "metadata": {
    "execution": {
     "iopub.execute_input": "2021-09-30T18:23:06.740877Z",
     "iopub.status.busy": "2021-09-30T18:23:06.739828Z",
     "iopub.status.idle": "2021-09-30T18:23:14.581086Z",
     "shell.execute_reply": "2021-09-30T18:23:14.580087Z",
     "shell.execute_reply.started": "2021-09-30T18:22:32.175141Z"
    },
    "papermill": {
     "duration": 7.871911,
     "end_time": "2021-09-30T18:23:14.581258",
     "exception": false,
     "start_time": "2021-09-30T18:23:06.709347",
     "status": "completed"
    },
    "tags": []
   },
   "outputs": [
    {
     "name": "stderr",
     "output_type": "stream",
     "text": [
      "2021-09-30 18:23:08.688833: W tensorflow/stream_executor/platform/default/dso_loader.cc:60] Could not load dynamic library 'libcudart.so.11.0'; dlerror: libcudart.so.11.0: cannot open shared object file: No such file or directory; LD_LIBRARY_PATH: /opt/conda/lib\n",
      "2021-09-30 18:23:08.688965: I tensorflow/stream_executor/cuda/cudart_stub.cc:29] Ignore above cudart dlerror if you do not have a GPU set up on your machine.\n"
     ]
    },
    {
     "data": {
      "text/html": [
       "<div>\n",
       "<style scoped>\n",
       "    .dataframe tbody tr th:only-of-type {\n",
       "        vertical-align: middle;\n",
       "    }\n",
       "\n",
       "    .dataframe tbody tr th {\n",
       "        vertical-align: top;\n",
       "    }\n",
       "\n",
       "    .dataframe thead th {\n",
       "        text-align: right;\n",
       "    }\n",
       "</style>\n",
       "<table border=\"1\" class=\"dataframe\">\n",
       "  <thead>\n",
       "    <tr style=\"text-align: right;\">\n",
       "      <th></th>\n",
       "      <th>ID</th>\n",
       "      <th>Area</th>\n",
       "      <th>Perimeter</th>\n",
       "      <th>MajorAxisLength</th>\n",
       "      <th>MinorAxisLength</th>\n",
       "      <th>AspectRation</th>\n",
       "      <th>Eccentricity</th>\n",
       "      <th>ConvexArea</th>\n",
       "      <th>EquivDiameter</th>\n",
       "      <th>Extent</th>\n",
       "      <th>Solidity</th>\n",
       "      <th>roundness</th>\n",
       "      <th>Compactness</th>\n",
       "      <th>ShapeFactor1</th>\n",
       "      <th>ShapeFactor2</th>\n",
       "      <th>ShapeFactor3</th>\n",
       "      <th>ShapeFactor4</th>\n",
       "    </tr>\n",
       "  </thead>\n",
       "  <tbody>\n",
       "    <tr>\n",
       "      <th>0</th>\n",
       "      <td>10834</td>\n",
       "      <td>57659</td>\n",
       "      <td>955.434</td>\n",
       "      <td>387.757607</td>\n",
       "      <td>196.625782</td>\n",
       "      <td>1.972059</td>\n",
       "      <td>0.861896</td>\n",
       "      <td>60188</td>\n",
       "      <td>270.949661</td>\n",
       "      <td>0.620790</td>\n",
       "      <td>0.957982</td>\n",
       "      <td>0.793735</td>\n",
       "      <td>0.698760</td>\n",
       "      <td>0.006725</td>\n",
       "      <td>0.000989</td>\n",
       "      <td>0.488266</td>\n",
       "      <td>0.962889</td>\n",
       "    </tr>\n",
       "    <tr>\n",
       "      <th>1</th>\n",
       "      <td>10835</td>\n",
       "      <td>28772</td>\n",
       "      <td>630.362</td>\n",
       "      <td>229.990785</td>\n",
       "      <td>159.609367</td>\n",
       "      <td>1.440960</td>\n",
       "      <td>0.719993</td>\n",
       "      <td>29127</td>\n",
       "      <td>191.399185</td>\n",
       "      <td>0.767458</td>\n",
       "      <td>0.987812</td>\n",
       "      <td>0.909913</td>\n",
       "      <td>0.832204</td>\n",
       "      <td>0.007994</td>\n",
       "      <td>0.002365</td>\n",
       "      <td>0.692563</td>\n",
       "      <td>0.997956</td>\n",
       "    </tr>\n",
       "    <tr>\n",
       "      <th>2</th>\n",
       "      <td>10836</td>\n",
       "      <td>54677</td>\n",
       "      <td>911.022</td>\n",
       "      <td>308.853903</td>\n",
       "      <td>226.398571</td>\n",
       "      <td>1.364204</td>\n",
       "      <td>0.680198</td>\n",
       "      <td>55858</td>\n",
       "      <td>263.850182</td>\n",
       "      <td>0.753013</td>\n",
       "      <td>0.978857</td>\n",
       "      <td>0.827860</td>\n",
       "      <td>0.854288</td>\n",
       "      <td>0.005649</td>\n",
       "      <td>0.001856</td>\n",
       "      <td>0.729808</td>\n",
       "      <td>0.995607</td>\n",
       "    </tr>\n",
       "    <tr>\n",
       "      <th>3</th>\n",
       "      <td>10837</td>\n",
       "      <td>24827</td>\n",
       "      <td>578.304</td>\n",
       "      <td>214.192699</td>\n",
       "      <td>147.788172</td>\n",
       "      <td>1.449322</td>\n",
       "      <td>0.723831</td>\n",
       "      <td>25121</td>\n",
       "      <td>177.794033</td>\n",
       "      <td>0.716508</td>\n",
       "      <td>0.988297</td>\n",
       "      <td>0.932871</td>\n",
       "      <td>0.830066</td>\n",
       "      <td>0.008627</td>\n",
       "      <td>0.002526</td>\n",
       "      <td>0.689009</td>\n",
       "      <td>0.998596</td>\n",
       "    </tr>\n",
       "    <tr>\n",
       "      <th>4</th>\n",
       "      <td>10838</td>\n",
       "      <td>141850</td>\n",
       "      <td>1432.847</td>\n",
       "      <td>524.923471</td>\n",
       "      <td>346.910920</td>\n",
       "      <td>1.513136</td>\n",
       "      <td>0.750492</td>\n",
       "      <td>143680</td>\n",
       "      <td>424.981211</td>\n",
       "      <td>0.804617</td>\n",
       "      <td>0.987263</td>\n",
       "      <td>0.868240</td>\n",
       "      <td>0.809606</td>\n",
       "      <td>0.003701</td>\n",
       "      <td>0.000981</td>\n",
       "      <td>0.655462</td>\n",
       "      <td>0.991803</td>\n",
       "    </tr>\n",
       "  </tbody>\n",
       "</table>\n",
       "</div>"
      ],
      "text/plain": [
       "      ID    Area  Perimeter  MajorAxisLength  MinorAxisLength  AspectRation  \\\n",
       "0  10834   57659    955.434       387.757607       196.625782      1.972059   \n",
       "1  10835   28772    630.362       229.990785       159.609367      1.440960   \n",
       "2  10836   54677    911.022       308.853903       226.398571      1.364204   \n",
       "3  10837   24827    578.304       214.192699       147.788172      1.449322   \n",
       "4  10838  141850   1432.847       524.923471       346.910920      1.513136   \n",
       "\n",
       "   Eccentricity  ConvexArea  EquivDiameter    Extent  Solidity  roundness  \\\n",
       "0      0.861896       60188     270.949661  0.620790  0.957982   0.793735   \n",
       "1      0.719993       29127     191.399185  0.767458  0.987812   0.909913   \n",
       "2      0.680198       55858     263.850182  0.753013  0.978857   0.827860   \n",
       "3      0.723831       25121     177.794033  0.716508  0.988297   0.932871   \n",
       "4      0.750492      143680     424.981211  0.804617  0.987263   0.868240   \n",
       "\n",
       "   Compactness  ShapeFactor1  ShapeFactor2  ShapeFactor3  ShapeFactor4  \n",
       "0     0.698760      0.006725      0.000989      0.488266      0.962889  \n",
       "1     0.832204      0.007994      0.002365      0.692563      0.997956  \n",
       "2     0.854288      0.005649      0.001856      0.729808      0.995607  \n",
       "3     0.830066      0.008627      0.002526      0.689009      0.998596  \n",
       "4     0.809606      0.003701      0.000981      0.655462      0.991803  "
      ]
     },
     "execution_count": 1,
     "metadata": {},
     "output_type": "execute_result"
    }
   ],
   "source": [
    "#!pip install --upgrade tensorflow\n",
    "#!pip install --upgrade tensorflow-gpu\n",
    "import pandas as pd\n",
    "import seaborn as sns\n",
    "from matplotlib import pyplot as plt\n",
    "from statsmodels.graphics.gofplots import qqplot\n",
    "import tensorflow as tf\n",
    "from sklearn import preprocessing, svm\n",
    "from sklearn.linear_model import LogisticRegression\n",
    "from sklearn.model_selection import RandomizedSearchCV\n",
    "from sklearn.model_selection import train_test_split\n",
    "from sklearn.model_selection import cross_val_score\n",
    "from sklearn.model_selection import KFold\n",
    "from sklearn.decomposition import PCA\n",
    "from sklearn.ensemble import RandomForestClassifier\n",
    "from sklearn.neighbors import KNeighborsClassifier\n",
    "from xgboost import XGBClassifier\n",
    "import sklearn.metrics as metrics\n",
    "import pandas as pd\n",
    "import matplotlib.pyplot as plt\n",
    "import numpy as np\n",
    "import seaborn as sns\n",
    "from imblearn.over_sampling import SMOTE\n",
    "from collections import Counter\n",
    "from scipy.stats import randint, loguniform\n",
    "import warnings\n",
    "warnings.filterwarnings(\"ignore\")\n",
    "from sklearn.preprocessing import PowerTransformer\n",
    "from xgboost import XGBClassifier\n",
    "from sklearn.svm import SVC\n",
    "from tensorflow import keras \n",
    "from tensorflow.keras.models import Sequential\n",
    "from tensorflow.keras.layers import Dense\n",
    "from scipy.stats import reciprocal, uniform\n",
    "from sklearn.multiclass import OneVsOneClassifier\n",
    "from sklearn.multiclass import OneVsRestClassifier\n",
    "from sklearn.neural_network import MLPClassifier\n",
    "from sklearn.model_selection import RepeatedStratifiedKFold\n",
    "from skopt import BayesSearchCV\n",
    "from scipy.stats import randint as sp_randint\n",
    "from sklearn.neighbors import KNeighborsClassifier\n",
    "\n",
    "data = pd.read_csv(\"../input/dry-beans-classification-iti-ai-pro-intake01/train.csv\")\n",
    "test = pd.read_csv(\"../input/dry-beans-classification-iti-ai-pro-intake01/test.csv\")\n",
    "sample = pd.read_csv(\"../input/dry-beans-classification-iti-ai-pro-intake01/sample_submission.csv\")\n",
    "test.head()"
   ]
  },
  {
   "cell_type": "code",
   "execution_count": 2,
   "id": "ca06a5e2",
   "metadata": {
    "execution": {
     "iopub.execute_input": "2021-09-30T18:23:14.619273Z",
     "iopub.status.busy": "2021-09-30T18:23:14.618573Z",
     "iopub.status.idle": "2021-09-30T18:23:14.623168Z",
     "shell.execute_reply": "2021-09-30T18:23:14.622665Z",
     "shell.execute_reply.started": "2021-09-30T18:22:32.248887Z"
    },
    "papermill": {
     "duration": 0.030926,
     "end_time": "2021-09-30T18:23:14.623334",
     "exception": false,
     "start_time": "2021-09-30T18:23:14.592408",
     "status": "completed"
    },
    "tags": []
   },
   "outputs": [],
   "source": [
    "train_X = data.drop(['y','ID'], axis=1)\n",
    "train_y = data['y']\n",
    "test = test.drop('ID',axis=1)"
   ]
  },
  {
   "cell_type": "code",
   "execution_count": 3,
   "id": "82b4be04",
   "metadata": {
    "execution": {
     "iopub.execute_input": "2021-09-30T18:23:14.647476Z",
     "iopub.status.busy": "2021-09-30T18:23:14.646780Z",
     "iopub.status.idle": "2021-09-30T18:23:15.212727Z",
     "shell.execute_reply": "2021-09-30T18:23:15.213231Z",
     "shell.execute_reply.started": "2021-09-30T18:22:32.255918Z"
    },
    "papermill": {
     "duration": 0.580005,
     "end_time": "2021-09-30T18:23:15.213468",
     "exception": false,
     "start_time": "2021-09-30T18:23:14.633463",
     "status": "completed"
    },
    "tags": []
   },
   "outputs": [],
   "source": [
    "\n",
    "lab_enc = preprocessing.LabelEncoder()\n",
    "train_y = lab_enc.fit_transform(train_y)\n",
    "\n",
    "power = PowerTransformer(method='yeo-johnson')\n",
    "train_X = power.fit_transform(train_X)\n",
    "test = power.fit_transform(test)\n",
    "\n",
    "normalizer = preprocessing.StandardScaler()\n",
    "train_X = normalizer.fit_transform(train_X)\n",
    "test=normalizer.fit_transform(test)"
   ]
  },
  {
   "cell_type": "code",
   "execution_count": 4,
   "id": "5d3c7684",
   "metadata": {
    "execution": {
     "iopub.execute_input": "2021-09-30T18:23:15.238238Z",
     "iopub.status.busy": "2021-09-30T18:23:15.237615Z",
     "iopub.status.idle": "2021-09-30T18:23:18.359460Z",
     "shell.execute_reply": "2021-09-30T18:23:18.360279Z",
     "shell.execute_reply.started": "2021-09-30T18:22:33.017278Z"
    },
    "papermill": {
     "duration": 3.136688,
     "end_time": "2021-09-30T18:23:18.360606",
     "exception": false,
     "start_time": "2021-09-30T18:23:15.223918",
     "status": "completed"
    },
    "tags": []
   },
   "outputs": [
    {
     "name": "stdout",
     "output_type": "stream",
     "text": [
      "Training set score:  0.934742\n"
     ]
    }
   ],
   "source": [
    "\n",
    "classifier = classifier = MLPClassifier(hidden_layer_sizes=41, activation='relu',solver='adam', alpha=0.0054, random_state=5, batch_size=204, learning_rate='adaptive', learning_rate_init=0.002, power_t=0.01, max_iter=63)\n",
    "classifier = classifier.fit(train_X , train_y)\n",
    "classifier.predict(test)\n",
    "print(\"Training set score:  %f\" % classifier.score(train_X , train_y))\n",
    "   "
   ]
  },
  {
   "cell_type": "code",
   "execution_count": 5,
   "id": "011f1b0a",
   "metadata": {
    "execution": {
     "iopub.execute_input": "2021-09-30T18:23:18.407962Z",
     "iopub.status.busy": "2021-09-30T18:23:18.406766Z",
     "iopub.status.idle": "2021-09-30T18:23:18.411185Z",
     "shell.execute_reply": "2021-09-30T18:23:18.412070Z",
     "shell.execute_reply.started": "2021-09-30T18:22:35.624451Z"
    },
    "papermill": {
     "duration": 0.033209,
     "end_time": "2021-09-30T18:23:18.412411",
     "exception": false,
     "start_time": "2021-09-30T18:23:18.379202",
     "status": "completed"
    },
    "tags": []
   },
   "outputs": [
    {
     "data": {
      "text/plain": [
       "'classifier=KNeighborsClassifier()\\nclassifier = classifier.fit(train_X , train_y)\\nclassifier.predict(test)\\nprint(\"Training set score:  %f\" % classifier.score(train_X , train_y))\\n'"
      ]
     },
     "execution_count": 5,
     "metadata": {},
     "output_type": "execute_result"
    }
   ],
   "source": [
    "\"\"\"classifier=KNeighborsClassifier()\n",
    "classifier = classifier.fit(train_X , train_y)\n",
    "classifier.predict(test)\n",
    "print(\"Training set score:  %f\" % classifier.score(train_X , train_y))\n",
    "\"\"\""
   ]
  },
  {
   "cell_type": "code",
   "execution_count": 6,
   "id": "980ee193",
   "metadata": {
    "execution": {
     "iopub.execute_input": "2021-09-30T18:23:18.460561Z",
     "iopub.status.busy": "2021-09-30T18:23:18.459459Z",
     "iopub.status.idle": "2021-09-30T18:23:18.463665Z",
     "shell.execute_reply": "2021-09-30T18:23:18.464482Z",
     "shell.execute_reply.started": "2021-09-30T18:22:35.630443Z"
    },
    "papermill": {
     "duration": 0.032894,
     "end_time": "2021-09-30T18:23:18.464782",
     "exception": false,
     "start_time": "2021-09-30T18:23:18.431888",
     "status": "completed"
    },
    "tags": []
   },
   "outputs": [
    {
     "data": {
      "text/plain": [
       "'algorithm = {‘auto’, ‘ball_tree’, ‘kd_tree’, ‘brute’}, default=’auto’\\nweights{‘uniform’, ‘distance’} or callable, default=’uniform’\\nleaf_sizeint, default=30\\npint, default=2\\nmetricstr or callable, default=’minkowski’\\nmetric_paramsdict, default=None\\nn_jobsint, default=None\\nn_neighborsint, default=5'"
      ]
     },
     "execution_count": 6,
     "metadata": {},
     "output_type": "execute_result"
    }
   ],
   "source": [
    "\"\"\"algorithm = {‘auto’, ‘ball_tree’, ‘kd_tree’, ‘brute’}, default=’auto’\n",
    "weights{‘uniform’, ‘distance’} or callable, default=’uniform’\n",
    "leaf_sizeint, default=30\n",
    "pint, default=2\n",
    "metricstr or callable, default=’minkowski’\n",
    "metric_paramsdict, default=None\n",
    "n_jobsint, default=None\n",
    "n_neighborsint, default=5\"\"\"\n",
    "\n"
   ]
  },
  {
   "cell_type": "code",
   "execution_count": 7,
   "id": "c4f1c97f",
   "metadata": {
    "execution": {
     "iopub.execute_input": "2021-09-30T18:23:18.495872Z",
     "iopub.status.busy": "2021-09-30T18:23:18.494658Z",
     "iopub.status.idle": "2021-09-30T18:23:18.503593Z",
     "shell.execute_reply": "2021-09-30T18:23:18.504501Z",
     "shell.execute_reply.started": "2021-09-30T18:22:35.646398Z"
    },
    "papermill": {
     "duration": 0.026813,
     "end_time": "2021-09-30T18:23:18.504795",
     "exception": false,
     "start_time": "2021-09-30T18:23:18.477982",
     "status": "completed"
    },
    "tags": []
   },
   "outputs": [],
   "source": [
    "preds = classifier.predict(test)\n",
    "preds = list(lab_enc.inverse_transform(preds))"
   ]
  },
  {
   "cell_type": "code",
   "execution_count": 8,
   "id": "88187997",
   "metadata": {
    "execution": {
     "iopub.execute_input": "2021-09-30T18:23:18.553875Z",
     "iopub.status.busy": "2021-09-30T18:23:18.552672Z",
     "iopub.status.idle": "2021-09-30T18:23:18.577123Z",
     "shell.execute_reply": "2021-09-30T18:23:18.578109Z",
     "shell.execute_reply.started": "2021-09-30T18:22:35.658775Z"
    },
    "papermill": {
     "duration": 0.053674,
     "end_time": "2021-09-30T18:23:18.578386",
     "exception": false,
     "start_time": "2021-09-30T18:23:18.524712",
     "status": "completed"
    },
    "tags": []
   },
   "outputs": [
    {
     "data": {
      "text/html": [
       "<div>\n",
       "<style scoped>\n",
       "    .dataframe tbody tr th:only-of-type {\n",
       "        vertical-align: middle;\n",
       "    }\n",
       "\n",
       "    .dataframe tbody tr th {\n",
       "        vertical-align: top;\n",
       "    }\n",
       "\n",
       "    .dataframe thead th {\n",
       "        text-align: right;\n",
       "    }\n",
       "</style>\n",
       "<table border=\"1\" class=\"dataframe\">\n",
       "  <thead>\n",
       "    <tr style=\"text-align: right;\">\n",
       "      <th></th>\n",
       "      <th>ID</th>\n",
       "      <th>y</th>\n",
       "    </tr>\n",
       "  </thead>\n",
       "  <tbody>\n",
       "    <tr>\n",
       "      <th>0</th>\n",
       "      <td>10834</td>\n",
       "      <td>HOROZ</td>\n",
       "    </tr>\n",
       "    <tr>\n",
       "      <th>1</th>\n",
       "      <td>10835</td>\n",
       "      <td>DERMASON</td>\n",
       "    </tr>\n",
       "    <tr>\n",
       "      <th>2</th>\n",
       "      <td>10836</td>\n",
       "      <td>BARBUNYA</td>\n",
       "    </tr>\n",
       "    <tr>\n",
       "      <th>3</th>\n",
       "      <td>10837</td>\n",
       "      <td>DERMASON</td>\n",
       "    </tr>\n",
       "    <tr>\n",
       "      <th>4</th>\n",
       "      <td>10838</td>\n",
       "      <td>BOMBAY</td>\n",
       "    </tr>\n",
       "    <tr>\n",
       "      <th>5</th>\n",
       "      <td>10839</td>\n",
       "      <td>DERMASON</td>\n",
       "    </tr>\n",
       "    <tr>\n",
       "      <th>6</th>\n",
       "      <td>10840</td>\n",
       "      <td>DERMASON</td>\n",
       "    </tr>\n",
       "    <tr>\n",
       "      <th>7</th>\n",
       "      <td>10841</td>\n",
       "      <td>SEKER</td>\n",
       "    </tr>\n",
       "    <tr>\n",
       "      <th>8</th>\n",
       "      <td>10842</td>\n",
       "      <td>DERMASON</td>\n",
       "    </tr>\n",
       "    <tr>\n",
       "      <th>9</th>\n",
       "      <td>10843</td>\n",
       "      <td>SIRA</td>\n",
       "    </tr>\n",
       "    <tr>\n",
       "      <th>10</th>\n",
       "      <td>10844</td>\n",
       "      <td>DERMASON</td>\n",
       "    </tr>\n",
       "    <tr>\n",
       "      <th>11</th>\n",
       "      <td>10845</td>\n",
       "      <td>SIRA</td>\n",
       "    </tr>\n",
       "    <tr>\n",
       "      <th>12</th>\n",
       "      <td>10846</td>\n",
       "      <td>CALI</td>\n",
       "    </tr>\n",
       "    <tr>\n",
       "      <th>13</th>\n",
       "      <td>10847</td>\n",
       "      <td>DERMASON</td>\n",
       "    </tr>\n",
       "    <tr>\n",
       "      <th>14</th>\n",
       "      <td>10848</td>\n",
       "      <td>CALI</td>\n",
       "    </tr>\n",
       "    <tr>\n",
       "      <th>15</th>\n",
       "      <td>10849</td>\n",
       "      <td>CALI</td>\n",
       "    </tr>\n",
       "    <tr>\n",
       "      <th>16</th>\n",
       "      <td>10850</td>\n",
       "      <td>HOROZ</td>\n",
       "    </tr>\n",
       "    <tr>\n",
       "      <th>17</th>\n",
       "      <td>10851</td>\n",
       "      <td>DERMASON</td>\n",
       "    </tr>\n",
       "    <tr>\n",
       "      <th>18</th>\n",
       "      <td>10852</td>\n",
       "      <td>HOROZ</td>\n",
       "    </tr>\n",
       "    <tr>\n",
       "      <th>19</th>\n",
       "      <td>10853</td>\n",
       "      <td>DERMASON</td>\n",
       "    </tr>\n",
       "  </tbody>\n",
       "</table>\n",
       "</div>"
      ],
      "text/plain": [
       "       ID         y\n",
       "0   10834     HOROZ\n",
       "1   10835  DERMASON\n",
       "2   10836  BARBUNYA\n",
       "3   10837  DERMASON\n",
       "4   10838    BOMBAY\n",
       "5   10839  DERMASON\n",
       "6   10840  DERMASON\n",
       "7   10841     SEKER\n",
       "8   10842  DERMASON\n",
       "9   10843      SIRA\n",
       "10  10844  DERMASON\n",
       "11  10845      SIRA\n",
       "12  10846      CALI\n",
       "13  10847  DERMASON\n",
       "14  10848      CALI\n",
       "15  10849      CALI\n",
       "16  10850     HOROZ\n",
       "17  10851  DERMASON\n",
       "18  10852     HOROZ\n",
       "19  10853  DERMASON"
      ]
     },
     "execution_count": 8,
     "metadata": {},
     "output_type": "execute_result"
    }
   ],
   "source": [
    "sample['y'] = preds\n",
    "sample.to_csv('submission.csv', index=False)\n",
    "sample.head(20)"
   ]
  },
  {
   "cell_type": "code",
   "execution_count": null,
   "id": "ae53f46a",
   "metadata": {
    "papermill": {
     "duration": 0.020565,
     "end_time": "2021-09-30T18:23:18.619373",
     "exception": false,
     "start_time": "2021-09-30T18:23:18.598808",
     "status": "completed"
    },
    "tags": []
   },
   "outputs": [],
   "source": []
  },
  {
   "cell_type": "code",
   "execution_count": null,
   "id": "931a5239",
   "metadata": {
    "papermill": {
     "duration": 0.011538,
     "end_time": "2021-09-30T18:23:18.642689",
     "exception": false,
     "start_time": "2021-09-30T18:23:18.631151",
     "status": "completed"
    },
    "tags": []
   },
   "outputs": [],
   "source": []
  }
 ],
 "metadata": {
  "kernelspec": {
   "display_name": "Python 3",
   "language": "python",
   "name": "python3"
  },
  "language_info": {
   "codemirror_mode": {
    "name": "ipython",
    "version": 3
   },
   "file_extension": ".py",
   "mimetype": "text/x-python",
   "name": "python",
   "nbconvert_exporter": "python",
   "pygments_lexer": "ipython3",
   "version": "3.7.10"
  },
  "papermill": {
   "default_parameters": {},
   "duration": 23.914923,
   "end_time": "2021-09-30T18:23:21.389421",
   "environment_variables": {},
   "exception": null,
   "input_path": "__notebook__.ipynb",
   "output_path": "__notebook__.ipynb",
   "parameters": {},
   "start_time": "2021-09-30T18:22:57.474498",
   "version": "2.3.3"
  }
 },
 "nbformat": 4,
 "nbformat_minor": 5
}
